{
 "cells": [
  {
   "cell_type": "markdown",
   "metadata": {},
   "source": [
    "# Software Engineering for Noisy Intermediate Scale Quantum Computers"
   ]
  },
  {
   "cell_type": "markdown",
   "metadata": {},
   "source": [
    "# 13 Classes and whats in them"
   ]
  },
  {
   "cell_type": "markdown",
   "metadata": {},
   "source": [
    "Suggested textbook: _Quantum Computing: A Gentle Introduction_ by Eleanor Rieffel and Wolfgang Polak"
   ]
  },
  {
   "cell_type": "markdown",
   "metadata": {},
   "source": [
    "## Class 1\n",
    "\n",
    "### Classical Bits and Clocks. \n",
    "\n",
    "Class is designed to build intuition about Quantum Computers by showing how regular computations can be performed with clocks."
   ]
  },
  {
   "cell_type": "markdown",
   "metadata": {},
   "source": [
    "## Class 2\n",
    "\n",
    "### Linear Algebra for Quantum Computers\n",
    "\n",
    "Quantum Computers require a subset of linear algebra. Familiarity will be created in the math and notation needed for the class. Of most importance is the Bra-Ket notation.\n",
    "\n"
   ]
  },
  {
   "cell_type": "markdown",
   "metadata": {},
   "source": [
    "## Class 3\n",
    "### Classical Bits to Quantum Bits\n",
    "\n",
    "We use the math learned in the last class to reimagine compute with classical bits. We then show that classical bits are simply a more constrained instance of quantum bits. With our new quantum bits we will introduce the Not, Control-Not, Toffoli and Hadamaard gates. "
   ]
  },
  {
   "cell_type": "markdown",
   "metadata": {},
   "source": [
    "## Class 4\n",
    "\n",
    "### Introduction to IBM simulator and Deutsche's Algorithm\n",
    "\n",
    "We break open JupyterHub and show how to simulate quantum computers and gates on IBM's simulator. We will explain Deutsche's algorithm and then simulate it using IBM's Qiskit.\n",
    "\n",
    "Take this time to clarify Quantum Entanglement and Parallelization"
   ]
  },
  {
   "cell_type": "markdown",
   "metadata": {},
   "source": [
    "## Class 5\n",
    "\n",
    "### Classical Computation $\\subset$ Quantum Computation \n",
    "\n",
    "Show how classical operations can be computed with quantum computers even if there is not necessarily a quantum advantage."
   ]
  },
  {
   "cell_type": "markdown",
   "metadata": {},
   "source": [
    "## Class 6\n",
    "\n",
    "### Grovers and beyond!\n",
    "\n",
    "What is grovers? What does it do? Why is it better than any classical algorithm? Is it provable? (yes) How can we use it on ONISQ Devices?"
   ]
  },
  {
   "cell_type": "markdown",
   "metadata": {},
   "source": [
    "## Class 7\n",
    "### Shors algorithm, Quantum Fourier Transform and its impracticalities\n",
    "Actually, this is pretty self explanatory"
   ]
  },
  {
   "cell_type": "markdown",
   "metadata": {},
   "source": [
    "## Class 8\n",
    "\n",
    "### Quantum Error Correction\n",
    "\n",
    "What is it, why do we need it and how can we implement it?"
   ]
  },
  {
   "cell_type": "markdown",
   "metadata": {},
   "source": [
    "## Class 9\n",
    "\n",
    "### VQE and QAOA - Embrace the Noise\n",
    "\n",
    "Introduction to NISQ algorithms that don't need error correction. How do they work? What are their limitations? \n",
    "\n",
    "We may jump into HHL if there is time, doubtful."
   ]
  },
  {
   "cell_type": "markdown",
   "metadata": {},
   "source": [
    "## Class 10\n",
    "### Goeman-Williamsons take on Maxcut\n",
    "\n",
    "Semi-definite programming is extremely reminiscent of how our Qbits work. Lets attempt to take advantage of that for a speed up on the MaxCut problem\n"
   ]
  },
  {
   "cell_type": "markdown",
   "metadata": {},
   "source": [
    "## Class 11\n",
    "### Quantum Boltzmann Machines\n",
    "Quantum Computers promise a speedup along many pieces of a Machine Learning pipeline. Lets go over them and then dive into Quantum Boltzmann Machines. \n"
   ]
  },
  {
   "cell_type": "markdown",
   "metadata": {},
   "source": [
    "## Class 12\n",
    "### Quantum Chemistry\n",
    "\n",
    "The reason Richard Feynman proposed a quantum computer in 1981 was to study quantum chemistry. So lets do it! What can we model with our NISQ computers?"
   ]
  },
  {
   "cell_type": "markdown",
   "metadata": {},
   "source": [
    "## Class 13\n",
    "### Quantum Computer Resistant Cryptography\n",
    "\n",
    "Quantum Computers promise to break RSA (in the far future). What can we do to prevent that? There are Classical and Quantum encryptions that Quantum Computers would struggle to break."
   ]
  },
  {
   "cell_type": "markdown",
   "metadata": {},
   "source": [
    "## Class 14\n",
    "### Portfolio Optimization\n",
    "\n",
    "Quantum Computers could potentially change how our Financial Tech approaches problems."
   ]
  },
  {
   "cell_type": "code",
   "execution_count": null,
   "metadata": {},
   "outputs": [],
   "source": []
  }
 ],
 "metadata": {
  "kernelspec": {
   "display_name": "Python 3",
   "language": "python",
   "name": "python3"
  },
  "language_info": {
   "codemirror_mode": {
    "name": "ipython",
    "version": 3
   },
   "file_extension": ".py",
   "mimetype": "text/x-python",
   "name": "python",
   "nbconvert_exporter": "python",
   "pygments_lexer": "ipython3",
   "version": "3.6.8"
  }
 },
 "nbformat": 4,
 "nbformat_minor": 2
}
